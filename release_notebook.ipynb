{
 "cells": [
  {
   "cell_type": "code",
   "execution_count": 85,
   "id": "c3a0e42a-08ca-4083-8a29-6142d6faa054",
   "metadata": {
    "tags": []
   },
   "outputs": [],
   "source": [
    "import re\n",
    "\n",
    "import matplotlib.pyplot as plt\n",
    "import numpy as np\n",
    "import pandas as pd\n",
    "from tqdm.notebook import tqdm"
   ]
  },
  {
   "cell_type": "code",
   "execution_count": 19,
   "id": "076e93a2-1c47-4c40-ba1a-e73129e48a45",
   "metadata": {
    "tags": []
   },
   "outputs": [],
   "source": [
    "df = pd.read_csv(\"final_df_with_preds.csv\", lineterminator=\"\\n\")"
   ]
  },
  {
   "cell_type": "code",
   "execution_count": 20,
   "id": "763f3bc8-c8f2-4156-8033-8364cd83fa61",
   "metadata": {
    "tags": []
   },
   "outputs": [
    {
     "data": {
      "text/plain": [
       "(8597, 18)"
      ]
     },
     "execution_count": 20,
     "metadata": {},
     "output_type": "execute_result"
    }
   ],
   "source": [
    "df.shape"
   ]
  },
  {
   "cell_type": "code",
   "execution_count": 4,
   "id": "dd5e446f-f6a5-4c2c-9407-fbb0de8d9c44",
   "metadata": {
    "tags": []
   },
   "outputs": [],
   "source": [
    "df = df.filter(\n",
    "    items=[\n",
    "        \"year\",\n",
    "        \"predicted_material\",\n",
    "        \"case_doc_subject_rf\",\n",
    "        \"case_user_doc_court\",\n",
    "        \"acts\",\n",
    "        \"canditates\",\n",
    "    ]\n",
    ")"
   ]
  },
  {
   "cell_type": "code",
   "execution_count": 14,
   "id": "6a691521-111d-4acf-b4e6-3249182a1d50",
   "metadata": {},
   "outputs": [],
   "source": [
    "# df.predicted_material = df.predicted_material.replace(\"None\", np.nan)\n",
    "# df = df[df.predicted_material.notna()]\n",
    "# df = df.reset_index(drop=True)"
   ]
  },
  {
   "cell_type": "code",
   "execution_count": null,
   "id": "31dfef5d-0f92-4e1a-a5b5-d593e952f493",
   "metadata": {
    "tags": []
   },
   "outputs": [],
   "source": []
  },
  {
   "cell_type": "code",
   "execution_count": null,
   "id": "55fc1d04-c9bc-47c7-a2b5-36775bb64898",
   "metadata": {},
   "outputs": [],
   "source": []
  },
  {
   "cell_type": "markdown",
   "id": "5ed1e7a9-364a-4e9a-9c4e-ccff62364bf9",
   "metadata": {},
   "source": [
    "### Топ-10 экстр. материалов за всё время"
   ]
  },
  {
   "cell_type": "code",
   "execution_count": 129,
   "id": "8ba83944-5cfc-45fe-8bfc-eb3c51ee8381",
   "metadata": {
    "tags": []
   },
   "outputs": [
    {
     "data": {
      "text/html": [
       "<div>\n",
       "<style scoped>\n",
       "    .dataframe tbody tr th:only-of-type {\n",
       "        vertical-align: middle;\n",
       "    }\n",
       "\n",
       "    .dataframe tbody tr th {\n",
       "        vertical-align: top;\n",
       "    }\n",
       "\n",
       "    .dataframe thead th {\n",
       "        text-align: right;\n",
       "    }\n",
       "</style>\n",
       "<table border=\"1\" class=\"dataframe\">\n",
       "  <thead>\n",
       "    <tr style=\"text-align: right;\">\n",
       "      <th></th>\n",
       "      <th>predicted_material</th>\n",
       "      <th>size</th>\n",
       "    </tr>\n",
       "  </thead>\n",
       "  <tbody>\n",
       "    <tr>\n",
       "      <th>185</th>\n",
       "      <td>припомним жуликам и ворам их манифест 2002</td>\n",
       "      <td>200</td>\n",
       "    </tr>\n",
       "    <tr>\n",
       "      <th>90</th>\n",
       "      <td>видеозапись грот и 25 17 просыпайтесь</td>\n",
       "      <td>133</td>\n",
       "    </tr>\n",
       "    <tr>\n",
       "      <th>376</th>\n",
       "      <td>аудиофайлы с названиями банда москвы виват россии mp 3 и грот дым mp3 url адрес социальная сеть в контакте</td>\n",
       "      <td>95</td>\n",
       "    </tr>\n",
       "    <tr>\n",
       "      <th>836</th>\n",
       "      <td>музыкальное произведение радикальный голос группы коловрат</td>\n",
       "      <td>77</td>\n",
       "    </tr>\n",
       "    <tr>\n",
       "      <th>212</th>\n",
       "      <td>текстовая часть аудиозаписи sel mi на стягу коловрат всем славянам длительностью 03 минуты 08 секунд начинающаяся словами мы стали сплочённее за плечами четверть века и заканчивающаяся словами стирая границы ох погуляют славяне размещенная пользователем владимир мартынов на официальном интернет на веб сервисе сайта вконтакте</td>\n",
       "      <td>74</td>\n",
       "    </tr>\n",
       "    <tr>\n",
       "      <th>461</th>\n",
       "      <td>видеозапись тимур муцураев иерусалим 1998 г длительностью 9 минут 37 секунд размещенная на по электронному адресу</td>\n",
       "      <td>69</td>\n",
       "    </tr>\n",
       "    <tr>\n",
       "      <th>1011</th>\n",
       "      <td>цикл фильмов игры богов состоящий из восьми актов театр артисты и зрители эстетика общение музыка слово правильное образование в трех частях славянские привычки живой огонь в четырех частях мир в двух частях</td>\n",
       "      <td>65</td>\n",
       "    </tr>\n",
       "    <tr>\n",
       "      <th>544</th>\n",
       "      <td>видеоролик обращение бойцов славянского союза к русским гончаровым о в на интернет странице по в в контакте ру</td>\n",
       "      <td>54</td>\n",
       "    </tr>\n",
       "    <tr>\n",
       "      <th>349</th>\n",
       "      <td>аудиоматериалы на е они ушли таухид удар клинка чечня в огне шахид</td>\n",
       "      <td>52</td>\n",
       "    </tr>\n",
       "    <tr>\n",
       "      <th>312</th>\n",
       "      <td>аудиозапись под названием тимур муцураев 12000 муджахедов mр3 продолжительностью 04 мин 45 сек начинающаяся словами багрово на закате солнце и заканчивающаяся словами все ж покорим йерусалим</td>\n",
       "      <td>46</td>\n",
       "    </tr>\n",
       "    <tr>\n",
       "      <th>955</th>\n",
       "      <td>текст песни и видеоролик тимур муцураев исламская умма продолжительностью около 5 мин 40 сек</td>\n",
       "      <td>44</td>\n",
       "    </tr>\n",
       "    <tr>\n",
       "      <th>359</th>\n",
       "      <td>аудиофайл коловрат слава россии в в вконтакте на интернет странице пользователя влад черняк по</td>\n",
       "      <td>40</td>\n",
       "    </tr>\n",
       "    <tr>\n",
       "      <th>333</th>\n",
       "      <td>аудиокомпозиция коррозия металла бей чертей группы коррозия металла размещенная на интернет сайте</td>\n",
       "      <td>39</td>\n",
       "    </tr>\n",
       "    <tr>\n",
       "      <th>3</th>\n",
       "      <td>12 песня о аллах мир окутан страшной мглой</td>\n",
       "      <td>38</td>\n",
       "    </tr>\n",
       "    <tr>\n",
       "      <th>951</th>\n",
       "      <td>текст песни группы коловрат под названием честь и кровь автором и исполнителем которой является герасимов денис андреевич</td>\n",
       "      <td>37</td>\n",
       "    </tr>\n",
       "    <tr>\n",
       "      <th>249</th>\n",
       "      <td>dvd диск с фильмом чудеса корана</td>\n",
       "      <td>36</td>\n",
       "    </tr>\n",
       "    <tr>\n",
       "      <th>282</th>\n",
       "      <td>аудиозапись аргентина секс драка полная версия 3 54</td>\n",
       "      <td>36</td>\n",
       "    </tr>\n",
       "    <tr>\n",
       "      <th>273</th>\n",
       "      <td>аудиозапись 25 17 будь белым размещенная на id15338492 вконтакте</td>\n",
       "      <td>35</td>\n",
       "    </tr>\n",
       "    <tr>\n",
       "      <th>110</th>\n",
       "      <td>видеоролик тесак против эдуарда багирова допи делся нец временной продолжительностью 8 минут 32 секунды по 99984588</td>\n",
       "      <td>34</td>\n",
       "    </tr>\n",
       "  </tbody>\n",
       "</table>\n",
       "</div>"
      ],
      "text/plain": [
       "                                                                                                                                                                                                                                                                                                                            predicted_material  \\\n",
       "185                                                                                                                                                                                                                                                                                                припомним жуликам и ворам их манифест 2002    \n",
       "90                                                                                                                                                                                                                                                                                                      видеозапись грот и 25 17 просыпайтесь    \n",
       "376                                                                                                                                                                                                                                аудиофайлы с названиями банда москвы виват россии mp 3 и грот дым mp3 url адрес социальная сеть в контакте    \n",
       "836                                                                                                                                                                                                                                                                                музыкальное произведение радикальный голос группы коловрат    \n",
       "212    текстовая часть аудиозаписи sel mi на стягу коловрат всем славянам длительностью 03 минуты 08 секунд начинающаяся словами мы стали сплочённее за плечами четверть века и заканчивающаяся словами стирая границы ох погуляют славяне размещенная пользователем владимир мартынов на официальном интернет на веб сервисе сайта вконтакте    \n",
       "461                                                                                                                                                                                                                         видеозапись тимур муцураев иерусалим 1998 г длительностью 9 минут 37 секунд размещенная на по электронному адресу    \n",
       "1011                                                                                                                          цикл фильмов игры богов состоящий из восьми актов театр артисты и зрители эстетика общение музыка слово правильное образование в трех частях славянские привычки живой огонь в четырех частях мир в двух частях    \n",
       "544                                                                                                                                                                                                                            видеоролик обращение бойцов славянского союза к русским гончаровым о в на интернет странице по в в контакте ру    \n",
       "349                                                                                                                                                                                                                                                                        аудиоматериалы на е они ушли таухид удар клинка чечня в огне шахид    \n",
       "312                                                                                                                                            аудиозапись под названием тимур муцураев 12000 муджахедов mр3 продолжительностью 04 мин 45 сек начинающаяся словами багрово на закате солнце и заканчивающаяся словами все ж покорим йерусалим    \n",
       "955                                                                                                                                                                                                                                              текст песни и видеоролик тимур муцураев исламская умма продолжительностью около 5 мин 40 сек    \n",
       "359                                                                                                                                                                                                                                            аудиофайл коловрат слава россии в в вконтакте на интернет странице пользователя влад черняк по    \n",
       "333                                                                                                                                                                                                                                         аудиокомпозиция коррозия металла бей чертей группы коррозия металла размещенная на интернет сайте    \n",
       "3                                                                                                                                                                                                                                                                                                  12 песня о аллах мир окутан страшной мглой    \n",
       "951                                                                                                                                                                                                                 текст песни группы коловрат под названием честь и кровь автором и исполнителем которой является герасимов денис андреевич    \n",
       "249                                                                                                                                                                                                                                                                                                          dvd диск с фильмом чудеса корана    \n",
       "282                                                                                                                                                                                                                                                                                       аудиозапись аргентина секс драка полная версия 3 54    \n",
       "273                                                                                                                                                                                                                                                                          аудиозапись 25 17 будь белым размещенная на id15338492 вконтакте    \n",
       "110                                                                                                                                                                                                                       видеоролик тесак против эдуарда багирова допи делся нец временной продолжительностью 8 минут 32 секунды по 99984588    \n",
       "\n",
       "      size  \n",
       "185    200  \n",
       "90     133  \n",
       "376     95  \n",
       "836     77  \n",
       "212     74  \n",
       "461     69  \n",
       "1011    65  \n",
       "544     54  \n",
       "349     52  \n",
       "312     46  \n",
       "955     44  \n",
       "359     40  \n",
       "333     39  \n",
       "3       38  \n",
       "951     37  \n",
       "249     36  \n",
       "282     36  \n",
       "273     35  \n",
       "110     34  "
      ]
     },
     "execution_count": 129,
     "metadata": {},
     "output_type": "execute_result"
    }
   ],
   "source": [
    "pd.set_option(\"max_colwidth\", None)\n",
    "top_grouped = (\n",
    "    df.groupby(\"predicted_material\", as_index=False)\n",
    "    .size()\n",
    "    .sort_values(by=\"size\", ascending=False)\n",
    ")\n",
    "\n",
    "top_grouped.iloc[1:20]"
   ]
  },
  {
   "cell_type": "code",
   "execution_count": 9,
   "id": "a86e93ac-cdd5-409a-badc-874bcc3aa773",
   "metadata": {
    "tags": []
   },
   "outputs": [],
   "source": [
    "top_mats = (\n",
    "    df.groupby(\"predicted_material\")\n",
    "    .size()\n",
    "    .sort_values(ascending=False)\n",
    "    .iloc[1:6]\n",
    "    .index.to_list()\n",
    ")"
   ]
  },
  {
   "cell_type": "code",
   "execution_count": 10,
   "id": "9ca87c19-7b65-4905-b4d3-5feb68ece3fd",
   "metadata": {
    "tags": []
   },
   "outputs": [],
   "source": [
    "def plot_materials(names: list, title: str):\n",
    "    leg = []\n",
    "    plt.figure(figsize=(10, 6))\n",
    "    for i in names:\n",
    "        df[df.predicted_material == i].groupby(\"year\").size().plot()\n",
    "        leg.append(i[:25])\n",
    "    plt.legend(leg)\n",
    "    plt.title(title)\n",
    "    plt.show()"
   ]
  },
  {
   "cell_type": "code",
   "execution_count": 11,
   "id": "26089c20-c606-4ef4-ada0-8b9ab41f0a44",
   "metadata": {
    "tags": []
   },
   "outputs": [
    {
     "data": {
      "image/png": "[encoded data removed]",
      "text/plain": [
       "<Figure size 1000x600 with 1 Axes>"
      ]
     },
     "metadata": {},
     "output_type": "display_data"
    }
   ],
   "source": [
    "plot_materials(top_mats, \" Как изменилась борьба с экстремизмом в конце 2010-х годов\")"
   ]
  },
  {
   "cell_type": "code",
   "execution_count": null,
   "id": "f9757ce5-3fe0-4130-80e9-6f200f310e27",
   "metadata": {},
   "outputs": [],
   "source": []
  },
  {
   "cell_type": "markdown",
   "id": "90a16392-dd44-4152-9dae-b4bd35a7d315",
   "metadata": {},
   "source": [
    "### Топ регионов по 20.29 КоАП"
   ]
  },
  {
   "cell_type": "code",
   "execution_count": 12,
   "id": "3576c0b8-e4bd-44cc-a1e7-e9eea42aca5e",
   "metadata": {
    "tags": []
   },
   "outputs": [
    {
     "data": {
      "text/html": [
       "<div>\n",
       "<style scoped>\n",
       "    .dataframe tbody tr th:only-of-type {\n",
       "        vertical-align: middle;\n",
       "    }\n",
       "\n",
       "    .dataframe tbody tr th {\n",
       "        vertical-align: top;\n",
       "    }\n",
       "\n",
       "    .dataframe thead th {\n",
       "        text-align: right;\n",
       "    }\n",
       "</style>\n",
       "<table border=\"1\" class=\"dataframe\">\n",
       "  <thead>\n",
       "    <tr style=\"text-align: right;\">\n",
       "      <th></th>\n",
       "      <th>case_doc_subject_rf</th>\n",
       "      <th>size</th>\n",
       "    </tr>\n",
       "  </thead>\n",
       "  <tbody>\n",
       "    <tr>\n",
       "      <th>9</th>\n",
       "      <td>Воронежская область</td>\n",
       "      <td>456</td>\n",
       "    </tr>\n",
       "    <tr>\n",
       "      <th>37</th>\n",
       "      <td>Омская область</td>\n",
       "      <td>412</td>\n",
       "    </tr>\n",
       "    <tr>\n",
       "      <th>25</th>\n",
       "      <td>Краснодарский край</td>\n",
       "      <td>367</td>\n",
       "    </tr>\n",
       "    <tr>\n",
       "      <th>0</th>\n",
       "      <td>Алтайский край</td>\n",
       "      <td>359</td>\n",
       "    </tr>\n",
       "    <tr>\n",
       "      <th>41</th>\n",
       "      <td>Пермский край</td>\n",
       "      <td>322</td>\n",
       "    </tr>\n",
       "    <tr>\n",
       "      <th>22</th>\n",
       "      <td>Кемеровская область - Кузбасс</td>\n",
       "      <td>236</td>\n",
       "    </tr>\n",
       "    <tr>\n",
       "      <th>78</th>\n",
       "      <td>Ханты-Мансийский автономный округ - Югра (Тюменская область)</td>\n",
       "      <td>230</td>\n",
       "    </tr>\n",
       "    <tr>\n",
       "      <th>76</th>\n",
       "      <td>Ульяновская область</td>\n",
       "      <td>223</td>\n",
       "    </tr>\n",
       "    <tr>\n",
       "      <th>64</th>\n",
       "      <td>Самарская область</td>\n",
       "      <td>222</td>\n",
       "    </tr>\n",
       "    <tr>\n",
       "      <th>14</th>\n",
       "      <td>Ивановская область</td>\n",
       "      <td>219</td>\n",
       "    </tr>\n",
       "    <tr>\n",
       "      <th>4</th>\n",
       "      <td>Белгородская область</td>\n",
       "      <td>214</td>\n",
       "    </tr>\n",
       "    <tr>\n",
       "      <th>73</th>\n",
       "      <td>Тульская область</td>\n",
       "      <td>208</td>\n",
       "    </tr>\n",
       "    <tr>\n",
       "      <th>80</th>\n",
       "      <td>Чеченская Республика</td>\n",
       "      <td>201</td>\n",
       "    </tr>\n",
       "    <tr>\n",
       "      <th>38</th>\n",
       "      <td>Оренбургская область</td>\n",
       "      <td>193</td>\n",
       "    </tr>\n",
       "    <tr>\n",
       "      <th>7</th>\n",
       "      <td>Волгоградская область</td>\n",
       "      <td>188</td>\n",
       "    </tr>\n",
       "    <tr>\n",
       "      <th>63</th>\n",
       "      <td>Рязанская область</td>\n",
       "      <td>188</td>\n",
       "    </tr>\n",
       "    <tr>\n",
       "      <th>6</th>\n",
       "      <td>Владимирская область</td>\n",
       "      <td>181</td>\n",
       "    </tr>\n",
       "    <tr>\n",
       "      <th>24</th>\n",
       "      <td>Костромская область</td>\n",
       "      <td>179</td>\n",
       "    </tr>\n",
       "    <tr>\n",
       "      <th>46</th>\n",
       "      <td>Республика Башкортостан</td>\n",
       "      <td>161</td>\n",
       "    </tr>\n",
       "    <tr>\n",
       "      <th>54</th>\n",
       "      <td>Республика Марий Эл</td>\n",
       "      <td>145</td>\n",
       "    </tr>\n",
       "  </tbody>\n",
       "</table>\n",
       "</div>"
      ],
      "text/plain": [
       "                                             case_doc_subject_rf  size\n",
       "9                                            Воронежская область   456\n",
       "37                                                Омская область   412\n",
       "25                                            Краснодарский край   367\n",
       "0                                                 Алтайский край   359\n",
       "41                                                 Пермский край   322\n",
       "22                                 Кемеровская область - Кузбасс   236\n",
       "78  Ханты-Мансийский автономный округ - Югра (Тюменская область)   230\n",
       "76                                           Ульяновская область   223\n",
       "64                                             Самарская область   222\n",
       "14                                            Ивановская область   219\n",
       "4                                           Белгородская область   214\n",
       "73                                              Тульская область   208\n",
       "80                                          Чеченская Республика   201\n",
       "38                                          Оренбургская область   193\n",
       "7                                          Волгоградская область   188\n",
       "63                                             Рязанская область   188\n",
       "6                                           Владимирская область   181\n",
       "24                                           Костромская область   179\n",
       "46                                       Республика Башкортостан   161\n",
       "54                                           Республика Марий Эл   145"
      ]
     },
     "execution_count": 12,
     "metadata": {},
     "output_type": "execute_result"
    }
   ],
   "source": [
    "df.groupby(\"case_doc_subject_rf\", as_index=False).size().sort_values(\n",
    "    by=\"size\", ascending=False\n",
    ").iloc[:20]"
   ]
  },
  {
   "cell_type": "code",
   "execution_count": 57,
   "id": "6fc535e4-8a53-4406-b6e6-5b1005ad147c",
   "metadata": {
    "tags": []
   },
   "outputs": [
    {
     "data": {
      "text/html": [
       "<div>\n",
       "<style scoped>\n",
       "    .dataframe tbody tr th:only-of-type {\n",
       "        vertical-align: middle;\n",
       "    }\n",
       "\n",
       "    .dataframe tbody tr th {\n",
       "        vertical-align: top;\n",
       "    }\n",
       "\n",
       "    .dataframe thead th {\n",
       "        text-align: right;\n",
       "    }\n",
       "</style>\n",
       "<table border=\"1\" class=\"dataframe\">\n",
       "  <thead>\n",
       "    <tr style=\"text-align: right;\">\n",
       "      <th></th>\n",
       "      <th>case_doc_subject_rf</th>\n",
       "      <th>size</th>\n",
       "    </tr>\n",
       "  </thead>\n",
       "  <tbody>\n",
       "    <tr>\n",
       "      <th>19</th>\n",
       "      <td>Камчатский край</td>\n",
       "      <td>13</td>\n",
       "    </tr>\n",
       "    <tr>\n",
       "      <th>21</th>\n",
       "      <td>Кемеровская область</td>\n",
       "      <td>9</td>\n",
       "    </tr>\n",
       "    <tr>\n",
       "      <th>49</th>\n",
       "      <td>Республика Ингушетия</td>\n",
       "      <td>6</td>\n",
       "    </tr>\n",
       "    <tr>\n",
       "      <th>82</th>\n",
       "      <td>Чукотский автономный округ</td>\n",
       "      <td>3</td>\n",
       "    </tr>\n",
       "    <tr>\n",
       "      <th>29</th>\n",
       "      <td>Ленинградская область</td>\n",
       "      <td>3</td>\n",
       "    </tr>\n",
       "    <tr>\n",
       "      <th>60</th>\n",
       "      <td>Республика Тыва</td>\n",
       "      <td>2</td>\n",
       "    </tr>\n",
       "    <tr>\n",
       "      <th>31</th>\n",
       "      <td>Магаданская область</td>\n",
       "      <td>2</td>\n",
       "    </tr>\n",
       "    <tr>\n",
       "      <th>11</th>\n",
       "      <td>Еврейская автономная область</td>\n",
       "      <td>1</td>\n",
       "    </tr>\n",
       "    <tr>\n",
       "      <th>12</th>\n",
       "      <td>За пределами территории РФ</td>\n",
       "      <td>1</td>\n",
       "    </tr>\n",
       "    <tr>\n",
       "      <th>58</th>\n",
       "      <td>Республика Татарстан</td>\n",
       "      <td>1</td>\n",
       "    </tr>\n",
       "  </tbody>\n",
       "</table>\n",
       "</div>"
      ],
      "text/plain": [
       "             case_doc_subject_rf  size\n",
       "19               Камчатский край    13\n",
       "21           Кемеровская область     9\n",
       "49          Республика Ингушетия     6\n",
       "82    Чукотский автономный округ     3\n",
       "29         Ленинградская область     3\n",
       "60               Республика Тыва     2\n",
       "31           Магаданская область     2\n",
       "11  Еврейская автономная область     1\n",
       "12    За пределами территории РФ     1\n",
       "58          Республика Татарстан     1"
      ]
     },
     "execution_count": 57,
     "metadata": {},
     "output_type": "execute_result"
    }
   ],
   "source": [
    "# регионы с наименьшим числом приговоров по 20.29\n",
    "\n",
    "df.groupby(\"case_doc_subject_rf\", as_index=False).size().sort_values(\n",
    "    by=\"size\", ascending=False\n",
    ").iloc[-10:]"
   ]
  },
  {
   "cell_type": "markdown",
   "id": "58de7f4e-5a13-4e98-ac33-d198b2563939",
   "metadata": {},
   "source": [
    "### Тимур Муцураев. Точное кол-во упоминаний в актах"
   ]
  },
  {
   "cell_type": "code",
   "execution_count": 13,
   "id": "412958bd-b86a-4aa4-8e73-12ae04f81bff",
   "metadata": {
    "tags": []
   },
   "outputs": [
    {
     "data": {
      "text/plain": [
       "year\n",
       "2016     77\n",
       "2017    106\n",
       "2018    137\n",
       "2019     67\n",
       "2020     67\n",
       "2021     14\n",
       "2022      7\n",
       "dtype: int64"
      ]
     },
     "execution_count": 13,
     "metadata": {},
     "output_type": "execute_result"
    }
   ],
   "source": [
    "# упоминание в приговорах по годам\n",
    "\n",
    "df[df.acts.str.contains(\"муцураев\", na=False, case=False)].groupby(\"year\").size()"
   ]
  },
  {
   "cell_type": "code",
   "execution_count": 14,
   "id": "48996896-1365-49e9-8c7d-13684493dad2",
   "metadata": {
    "tags": []
   },
   "outputs": [
    {
     "data": {
      "text/plain": [
       "475"
      ]
     },
     "execution_count": 14,
     "metadata": {},
     "output_type": "execute_result"
    }
   ],
   "source": [
    "# упоминание в приговорах за все годы\n",
    "\n",
    "df[df.acts.str.contains(\"муцураев\", na=False, case=False)].groupby(\"year\").size().sum()"
   ]
  },
  {
   "cell_type": "code",
   "execution_count": 15,
   "id": "a71b98c9-87c9-4e32-85a2-6f8a937c68dd",
   "metadata": {
    "tags": []
   },
   "outputs": [
    {
     "data": {
      "text/plain": [
       "case_doc_subject_rf\n",
       "Чеченская Республика                                            48\n",
       "Омская область                                                  47\n",
       "Республика Северная Осетия-Алания                               35\n",
       "Республика Дагестан                                             28\n",
       "Ульяновская область                                             22\n",
       "Карачаево-Черкесская Республика                                 20\n",
       "Ямало-Ненецкий автономный округ                                 18\n",
       "Краснодарский край                                              18\n",
       "Воронежская область                                             18\n",
       "Ханты-Мансийский автономный округ - Югра (Тюменская область)    16\n",
       "dtype: int64"
      ]
     },
     "execution_count": 15,
     "metadata": {},
     "output_type": "execute_result"
    }
   ],
   "source": [
    "# упоминание в приговорах по регионам\n",
    "\n",
    "df[df.acts.str.contains(\"муцураев\", na=False, case=False)].groupby(\n",
    "    \"case_doc_subject_rf\"\n",
    ").size().sort_values(ascending=False).head(10)"
   ]
  },
  {
   "cell_type": "code",
   "execution_count": null,
   "id": "90867e60-1cce-4084-a565-26c632dcedb7",
   "metadata": {},
   "outputs": [],
   "source": []
  },
  {
   "cell_type": "markdown",
   "id": "c27ef400-ec2f-40d0-98a1-628a5aae1db3",
   "metadata": {},
   "source": [
    "### Группа Грот"
   ]
  },
  {
   "cell_type": "code",
   "execution_count": 48,
   "id": "fbf24401-7de3-4219-b9cc-efeebf827339",
   "metadata": {
    "tags": []
   },
   "outputs": [
    {
     "data": {
      "text/plain": [
       "year\n",
       "2016     32\n",
       "2017    122\n",
       "2018    110\n",
       "2019     24\n",
       "2020     12\n",
       "2021      9\n",
       "2022     10\n",
       "dtype: int64"
      ]
     },
     "execution_count": 48,
     "metadata": {},
     "output_type": "execute_result"
    }
   ],
   "source": [
    "# упоминание в приговорах по годам\n",
    "\n",
    "df[df.acts.str.contains(\"грот\", na=False, case=False)].groupby(\"year\").size()"
   ]
  },
  {
   "cell_type": "code",
   "execution_count": 16,
   "id": "2624f40d-bebd-400e-84f8-7a5b5072eb99",
   "metadata": {
    "tags": []
   },
   "outputs": [
    {
     "data": {
      "text/plain": [
       "319"
      ]
     },
     "execution_count": 16,
     "metadata": {},
     "output_type": "execute_result"
    }
   ],
   "source": [
    "# упоминание в приговорах за все годы\n",
    "\n",
    "df[df.acts.str.contains(\"грот\", na=False, case=False)].groupby(\"year\").size().sum()"
   ]
  },
  {
   "cell_type": "code",
   "execution_count": 49,
   "id": "28a321e4-3d12-4620-b9de-6f9ccd8b6cc9",
   "metadata": {
    "tags": []
   },
   "outputs": [
    {
     "data": {
      "text/plain": [
       "case_doc_subject_rf\n",
       "Краснодарский край               50\n",
       "Амурская область                 40\n",
       "Омская область                   33\n",
       "Воронежская область              30\n",
       "Кемеровская область - Кузбасс    17\n",
       "Волгоградская область            16\n",
       "Тульская область                 10\n",
       "Владимирская область              9\n",
       "Ярославская область               9\n",
       "Оренбургская область              9\n",
       "dtype: int64"
      ]
     },
     "execution_count": 49,
     "metadata": {},
     "output_type": "execute_result"
    }
   ],
   "source": [
    "# упоминание в приговорах по регионам за все годы\n",
    "\n",
    "df[df.acts.str.contains(\"грот\", na=False, case=False)].groupby(\n",
    "    \"case_doc_subject_rf\"\n",
    ").size().sort_values(ascending=False).head(10)"
   ]
  },
  {
   "cell_type": "code",
   "execution_count": null,
   "id": "cf654ca9-41fb-49d1-9104-af308b81c261",
   "metadata": {},
   "outputs": [],
   "source": []
  },
  {
   "cell_type": "markdown",
   "id": "bd46f33e-5b47-4e46-82c3-db63265d6ed5",
   "metadata": {},
   "source": [
    "### Припомним жуликам и ворам"
   ]
  },
  {
   "cell_type": "code",
   "execution_count": 50,
   "id": "71843d11-c51c-4175-b993-c6d4791883af",
   "metadata": {
    "tags": []
   },
   "outputs": [
    {
     "data": {
      "text/plain": [
       "year\n",
       "2016     2\n",
       "2017     5\n",
       "2018    15\n",
       "2019    52\n",
       "2020    61\n",
       "2021    37\n",
       "2022    30\n",
       "dtype: int64"
      ]
     },
     "execution_count": 50,
     "metadata": {},
     "output_type": "execute_result"
    }
   ],
   "source": [
    "# упоминание в приговорах по годам\n",
    "\n",
    "df[df.acts.str.contains(\"припомним жуликам\", na=False, case=False)].groupby(\n",
    "    \"year\"\n",
    ").size()"
   ]
  },
  {
   "cell_type": "code",
   "execution_count": 17,
   "id": "00d71a1f-2c2e-4f69-a6fc-05e22b38639d",
   "metadata": {
    "tags": []
   },
   "outputs": [
    {
     "data": {
      "text/plain": [
       "202"
      ]
     },
     "execution_count": 17,
     "metadata": {},
     "output_type": "execute_result"
    }
   ],
   "source": [
    "# упоминание в приговорах за все годы\n",
    "\n",
    "df[df.acts.str.contains(\"припомним жуликам\", na=False, case=False)].groupby(\n",
    "    \"year\"\n",
    ").size().sum()"
   ]
  },
  {
   "cell_type": "code",
   "execution_count": 18,
   "id": "1762de69-5be5-4e83-be91-94cc5eb0a8f7",
   "metadata": {
    "tags": []
   },
   "outputs": [
    {
     "data": {
      "text/plain": [
       "case_doc_subject_rf\n",
       "Белгородская область    38\n",
       "Алтайский край          37\n",
       "Рязанская область       23\n",
       "Псковская область       18\n",
       "Ставропольский край      9\n",
       "Ивановская область       8\n",
       "Самарская область        7\n",
       "Воронежская область      6\n",
       "Ульяновская область      6\n",
       "Республика Коми          5\n",
       "dtype: int64"
      ]
     },
     "execution_count": 18,
     "metadata": {},
     "output_type": "execute_result"
    }
   ],
   "source": [
    "# упоминание в приговорах по регионам за все годы\n",
    "\n",
    "df[df.acts.str.contains(\"припомним жуликам\", na=False, case=False)].groupby(\n",
    "    \"case_doc_subject_rf\"\n",
    ").size().sort_values(ascending=False).head(10)"
   ]
  },
  {
   "cell_type": "code",
   "execution_count": null,
   "id": "ce86ec25-033d-432f-a2bb-6061b308a872",
   "metadata": {},
   "outputs": [],
   "source": []
  },
  {
   "cell_type": "markdown",
   "id": "45a7160c-d548-41ca-9a15-2e35c3b2afc0",
   "metadata": {},
   "source": [
    "Топ материал в регионе"
   ]
  },
  {
   "cell_type": "code",
   "execution_count": 173,
   "id": "3ff77551-f394-4737-bd67-7fdcc08c6b86",
   "metadata": {
    "tags": []
   },
   "outputs": [
    {
     "data": {
      "text/html": [
       "<div>\n",
       "<style scoped>\n",
       "    .dataframe tbody tr th:only-of-type {\n",
       "        vertical-align: middle;\n",
       "    }\n",
       "\n",
       "    .dataframe tbody tr th {\n",
       "        vertical-align: top;\n",
       "    }\n",
       "\n",
       "    .dataframe thead th {\n",
       "        text-align: right;\n",
       "    }\n",
       "</style>\n",
       "<table border=\"1\" class=\"dataframe\">\n",
       "  <thead>\n",
       "    <tr style=\"text-align: right;\">\n",
       "      <th></th>\n",
       "      <th>case_doc_subject_rf</th>\n",
       "      <th>predicted_material</th>\n",
       "      <th>size</th>\n",
       "    </tr>\n",
       "  </thead>\n",
       "  <tbody>\n",
       "    <tr>\n",
       "      <th>15</th>\n",
       "      <td>Алтайский край</td>\n",
       "      <td>припомним жуликам и ворам их манифест 2002</td>\n",
       "      <td>39</td>\n",
       "    </tr>\n",
       "    <tr>\n",
       "      <th>104</th>\n",
       "      <td>Амурская область</td>\n",
       "      <td>аудиофайлы с названиями банда москвы виват рос...</td>\n",
       "      <td>19</td>\n",
       "    </tr>\n",
       "    <tr>\n",
       "      <th>166</th>\n",
       "      <td>Архангельская область</td>\n",
       "      <td>фильм покушение на poccию hq начинающийся со с...</td>\n",
       "      <td>3</td>\n",
       "    </tr>\n",
       "    <tr>\n",
       "      <th>188</th>\n",
       "      <td>Астраханская область</td>\n",
       "      <td>книга отведение сомнений</td>\n",
       "      <td>5</td>\n",
       "    </tr>\n",
       "    <tr>\n",
       "      <th>202</th>\n",
       "      <td>Белгородская область</td>\n",
       "      <td>припомним жуликам и ворам их манифест 2002</td>\n",
       "      <td>37</td>\n",
       "    </tr>\n",
       "    <tr>\n",
       "      <th>265</th>\n",
       "      <td>Брянская область</td>\n",
       "      <td>печатное издание книга мертвая вода концепция ...</td>\n",
       "      <td>2</td>\n",
       "    </tr>\n",
       "    <tr>\n",
       "      <th>313</th>\n",
       "      <td>Владимирская область</td>\n",
       "      <td>музыкальное произведение радикальный голос гру...</td>\n",
       "      <td>5</td>\n",
       "    </tr>\n",
       "    <tr>\n",
       "      <th>335</th>\n",
       "      <td>Волгоградская область</td>\n",
       "      <td>31 песня спустилась тьма безмолвие в горах</td>\n",
       "      <td>4</td>\n",
       "    </tr>\n",
       "    <tr>\n",
       "      <th>420</th>\n",
       "      <td>Вологодская область</td>\n",
       "      <td>аудиофайл под названием дюшес я рисую белым ме...</td>\n",
       "      <td>3</td>\n",
       "    </tr>\n",
       "    <tr>\n",
       "      <th>528</th>\n",
       "      <td>Воронежская область</td>\n",
       "      <td>музыкальное произведение радикальный голос гру...</td>\n",
       "      <td>18</td>\n",
       "    </tr>\n",
       "    <tr>\n",
       "      <th>560</th>\n",
       "      <td>Город Москва</td>\n",
       "      <td>лозунг православие или смерть в е</td>\n",
       "      <td>2</td>\n",
       "    </tr>\n",
       "    <tr>\n",
       "      <th>564</th>\n",
       "      <td>Еврейская автономная область</td>\n",
       "      <td>текст план даллеса по уничтожению ссср россии</td>\n",
       "      <td>1</td>\n",
       "    </tr>\n",
       "    <tr>\n",
       "      <th>565</th>\n",
       "      <td>За пределами территории РФ</td>\n",
       "      <td>аудиофайл тимура муцураева под названием рай п...</td>\n",
       "      <td>1</td>\n",
       "    </tr>\n",
       "    <tr>\n",
       "      <th>566</th>\n",
       "      <td>Забайкальский край</td>\n",
       "      <td>амир докка абу усман и шейх саид бурятский об...</td>\n",
       "      <td>1</td>\n",
       "    </tr>\n",
       "    <tr>\n",
       "      <th>591</th>\n",
       "      <td>Ивановская область</td>\n",
       "      <td>текстовая часть аудиозаписи sel mi на стягу к...</td>\n",
       "      <td>18</td>\n",
       "    </tr>\n",
       "    <tr>\n",
       "      <th>660</th>\n",
       "      <td>Иркутская область</td>\n",
       "      <td>видеоматериал перевод нашиды ахи анта хьуррун ...</td>\n",
       "      <td>8</td>\n",
       "    </tr>\n",
       "    <tr>\n",
       "      <th>668</th>\n",
       "      <td>Кабардино-Балкарская Республика</td>\n",
       "      <td>амир докка абу усман и шейх саид бурятский об...</td>\n",
       "      <td>2</td>\n",
       "    </tr>\n",
       "    <tr>\n",
       "      <th>681</th>\n",
       "      <td>Калининградская область</td>\n",
       "      <td>видеоматериал звон мечей салил саварим</td>\n",
       "      <td>2</td>\n",
       "    </tr>\n",
       "    <tr>\n",
       "      <th>686</th>\n",
       "      <td>Калужская область</td>\n",
       "      <td>видеозапись грот и 25 17 просыпайтесь</td>\n",
       "      <td>3</td>\n",
       "    </tr>\n",
       "    <tr>\n",
       "      <th>707</th>\n",
       "      <td>Камчатский край</td>\n",
       "      <td>как развить близкие отношения с богом</td>\n",
       "      <td>3</td>\n",
       "    </tr>\n",
       "    <tr>\n",
       "      <th>738</th>\n",
       "      <td>Карачаево-Черкесская Республика</td>\n",
       "      <td>книги 1 крепость мусульманина из слов поминани...</td>\n",
       "      <td>13</td>\n",
       "    </tr>\n",
       "    <tr>\n",
       "      <th>747</th>\n",
       "      <td>Кемеровская область</td>\n",
       "      <td>аудиокомпозиция андеграунд кома чурки нецензур...</td>\n",
       "      <td>1</td>\n",
       "    </tr>\n",
       "    <tr>\n",
       "      <th>760</th>\n",
       "      <td>Кемеровская область - Кузбасс</td>\n",
       "      <td>видеозапись грот и 25 17 просыпайтесь</td>\n",
       "      <td>11</td>\n",
       "    </tr>\n",
       "    <tr>\n",
       "      <th>825</th>\n",
       "      <td>Кировская область</td>\n",
       "      <td>брошюра сын хочет открыть отца брошюра была ли...</td>\n",
       "      <td>5</td>\n",
       "    </tr>\n",
       "    <tr>\n",
       "      <th>889</th>\n",
       "      <td>Костромская область</td>\n",
       "      <td>музыкальное произведение радикальный голос гру...</td>\n",
       "      <td>7</td>\n",
       "    </tr>\n",
       "    <tr>\n",
       "      <th>915</th>\n",
       "      <td>Краснодарский край</td>\n",
       "      <td>видеозапись грот и 25 17 просыпайтесь</td>\n",
       "      <td>31</td>\n",
       "    </tr>\n",
       "    <tr>\n",
       "      <th>1028</th>\n",
       "      <td>Красноярский край</td>\n",
       "      <td>видеоролик тесак против эдуарда багирова допи...</td>\n",
       "      <td>3</td>\n",
       "    </tr>\n",
       "    <tr>\n",
       "      <th>1061</th>\n",
       "      <td>Курганская область</td>\n",
       "      <td>alai oli зачем ты под чёрного легла продолжит...</td>\n",
       "      <td>2</td>\n",
       "    </tr>\n",
       "    <tr>\n",
       "      <th>1117</th>\n",
       "      <td>Курская область</td>\n",
       "      <td>видеофайл бабушка отматерила чурку продолжител...</td>\n",
       "      <td>5</td>\n",
       "    </tr>\n",
       "    <tr>\n",
       "      <th>1130</th>\n",
       "      <td>Ленинградская область</td>\n",
       "      <td>видеофайлы коловрат футбольный хулиган mp4 рос...</td>\n",
       "      <td>1</td>\n",
       "    </tr>\n",
       "    <tr>\n",
       "      <th>1146</th>\n",
       "      <td>Липецкая область</td>\n",
       "      <td>аудиозапись под названием тимур муцураев 12000...</td>\n",
       "      <td>3</td>\n",
       "    </tr>\n",
       "    <tr>\n",
       "      <th>1177</th>\n",
       "      <td>Магаданская область</td>\n",
       "      <td>текст песни реп это кал рок группы коррозия ме...</td>\n",
       "      <td>1</td>\n",
       "    </tr>\n",
       "    <tr>\n",
       "      <th>1183</th>\n",
       "      <td>Московская область</td>\n",
       "      <td>текстовая часть аудиозаписи sel mi на стягу к...</td>\n",
       "      <td>2</td>\n",
       "    </tr>\n",
       "    <tr>\n",
       "      <th>1228</th>\n",
       "      <td>Мурманская область</td>\n",
       "      <td>аудиофайл коловрат слава россии в в вконтакте ...</td>\n",
       "      <td>2</td>\n",
       "    </tr>\n",
       "    <tr>\n",
       "      <th>1253</th>\n",
       "      <td>Нижегородская область</td>\n",
       "      <td>видеоролик за что мир ненавидит жидов в</td>\n",
       "      <td>2</td>\n",
       "    </tr>\n",
       "    <tr>\n",
       "      <th>1273</th>\n",
       "      <td>Новгородская область</td>\n",
       "      <td>книги 1 крепость мусульманина из слов поминани...</td>\n",
       "      <td>2</td>\n",
       "    </tr>\n",
       "    <tr>\n",
       "      <th>1275</th>\n",
       "      <td>Новосибирская область</td>\n",
       "      <td>read php 40 1418216 page 2</td>\n",
       "      <td>2</td>\n",
       "    </tr>\n",
       "    <tr>\n",
       "      <th>1298</th>\n",
       "      <td>Омская область</td>\n",
       "      <td>видеозапись грот и 25 17 просыпайтесь</td>\n",
       "      <td>16</td>\n",
       "    </tr>\n",
       "    <tr>\n",
       "      <th>1407</th>\n",
       "      <td>Оренбургская область</td>\n",
       "      <td>видеозапись грот и 25 17 просыпайтесь</td>\n",
       "      <td>6</td>\n",
       "    </tr>\n",
       "    <tr>\n",
       "      <th>1468</th>\n",
       "      <td>Орловская область</td>\n",
       "      <td>видеоролик под названием обращение к чуркам в ...</td>\n",
       "      <td>2</td>\n",
       "    </tr>\n",
       "    <tr>\n",
       "      <th>1510</th>\n",
       "      <td>Пензенская область</td>\n",
       "      <td>текст песни группы коловрат под названием геро...</td>\n",
       "      <td>3</td>\n",
       "    </tr>\n",
       "    <tr>\n",
       "      <th>1592</th>\n",
       "      <td>Пермский край</td>\n",
       "      <td>цикл фильмов игры богов состоящий из восьми ак...</td>\n",
       "      <td>19</td>\n",
       "    </tr>\n",
       "    <tr>\n",
       "      <th>1593</th>\n",
       "      <td>Приморский край</td>\n",
       "      <td>песня алешаllacoste беспредел памяти юрия вол...</td>\n",
       "      <td>1</td>\n",
       "    </tr>\n",
       "    <tr>\n",
       "      <th>1614</th>\n",
       "      <td>Псковская область</td>\n",
       "      <td>припомним жуликам и ворам их манифест 2002</td>\n",
       "      <td>19</td>\n",
       "    </tr>\n",
       "    <tr>\n",
       "      <th>1647</th>\n",
       "      <td>Республика Адыгея</td>\n",
       "      <td>припомним жуликам и ворам их манифест 2002</td>\n",
       "      <td>1</td>\n",
       "    </tr>\n",
       "    <tr>\n",
       "      <th>1653</th>\n",
       "      <td>Республика Алтай</td>\n",
       "      <td>видеоролик обращение бойцов славянского союза ...</td>\n",
       "      <td>4</td>\n",
       "    </tr>\n",
       "    <tr>\n",
       "      <th>1671</th>\n",
       "      <td>Республика Башкортостан</td>\n",
       "      <td>dvd диск с фильмом чудеса корана</td>\n",
       "      <td>20</td>\n",
       "    </tr>\n",
       "    <tr>\n",
       "      <th>1711</th>\n",
       "      <td>Республика Бурятия</td>\n",
       "      <td>припомним жуликам и ворам их манифест 2002</td>\n",
       "      <td>2</td>\n",
       "    </tr>\n",
       "    <tr>\n",
       "      <th>1732</th>\n",
       "      <td>Республика Дагестан</td>\n",
       "      <td>аудиозапись под названием тимур муцураев 12000...</td>\n",
       "      <td>4</td>\n",
       "    </tr>\n",
       "    <tr>\n",
       "      <th>1755</th>\n",
       "      <td>Республика Ингушетия</td>\n",
       "      <td>книги 1 крепость мусульманина из слов поминани...</td>\n",
       "      <td>2</td>\n",
       "    </tr>\n",
       "  </tbody>\n",
       "</table>\n",
       "</div>"
      ],
      "text/plain": [
       "                  case_doc_subject_rf  \\\n",
       "15                     Алтайский край   \n",
       "104                  Амурская область   \n",
       "166             Архангельская область   \n",
       "188              Астраханская область   \n",
       "202              Белгородская область   \n",
       "265                  Брянская область   \n",
       "313              Владимирская область   \n",
       "335             Волгоградская область   \n",
       "420               Вологодская область   \n",
       "528               Воронежская область   \n",
       "560                      Город Москва   \n",
       "564      Еврейская автономная область   \n",
       "565        За пределами территории РФ   \n",
       "566                Забайкальский край   \n",
       "591                Ивановская область   \n",
       "660                 Иркутская область   \n",
       "668   Кабардино-Балкарская Республика   \n",
       "681           Калининградская область   \n",
       "686                 Калужская область   \n",
       "707                   Камчатский край   \n",
       "738   Карачаево-Черкесская Республика   \n",
       "747               Кемеровская область   \n",
       "760     Кемеровская область - Кузбасс   \n",
       "825                 Кировская область   \n",
       "889               Костромская область   \n",
       "915                Краснодарский край   \n",
       "1028                Красноярский край   \n",
       "1061               Курганская область   \n",
       "1117                  Курская область   \n",
       "1130            Ленинградская область   \n",
       "1146                 Липецкая область   \n",
       "1177              Магаданская область   \n",
       "1183               Московская область   \n",
       "1228               Мурманская область   \n",
       "1253            Нижегородская область   \n",
       "1273             Новгородская область   \n",
       "1275            Новосибирская область   \n",
       "1298                   Омская область   \n",
       "1407             Оренбургская область   \n",
       "1468                Орловская область   \n",
       "1510               Пензенская область   \n",
       "1592                    Пермский край   \n",
       "1593                  Приморский край   \n",
       "1614                Псковская область   \n",
       "1647                Республика Адыгея   \n",
       "1653                 Республика Алтай   \n",
       "1671          Республика Башкортостан   \n",
       "1711               Республика Бурятия   \n",
       "1732              Республика Дагестан   \n",
       "1755             Республика Ингушетия   \n",
       "\n",
       "                                     predicted_material  size  \n",
       "15          припомним жуликам и ворам их манифест 2002     39  \n",
       "104   аудиофайлы с названиями банда москвы виват рос...    19  \n",
       "166   фильм покушение на poccию hq начинающийся со с...     3  \n",
       "188                           книга отведение сомнений      5  \n",
       "202         припомним жуликам и ворам их манифест 2002     37  \n",
       "265   печатное издание книга мертвая вода концепция ...     2  \n",
       "313   музыкальное произведение радикальный голос гру...     5  \n",
       "335         31 песня спустилась тьма безмолвие в горах      4  \n",
       "420   аудиофайл под названием дюшес я рисую белым ме...     3  \n",
       "528   музыкальное произведение радикальный голос гру...    18  \n",
       "560                  лозунг православие или смерть в е      2  \n",
       "564      текст план даллеса по уничтожению ссср россии      1  \n",
       "565   аудиофайл тимура муцураева под названием рай п...     1  \n",
       "566    амир докка абу усман и шейх саид бурятский об...     1  \n",
       "591    текстовая часть аудиозаписи sel mi на стягу к...    18  \n",
       "660   видеоматериал перевод нашиды ахи анта хьуррун ...     8  \n",
       "668    амир докка абу усман и шейх саид бурятский об...     2  \n",
       "681             видеоматериал звон мечей салил саварим      2  \n",
       "686              видеозапись грот и 25 17 просыпайтесь      3  \n",
       "707              как развить близкие отношения с богом      3  \n",
       "738   книги 1 крепость мусульманина из слов поминани...    13  \n",
       "747   аудиокомпозиция андеграунд кома чурки нецензур...     1  \n",
       "760              видеозапись грот и 25 17 просыпайтесь     11  \n",
       "825   брошюра сын хочет открыть отца брошюра была ли...     5  \n",
       "889   музыкальное произведение радикальный голос гру...     7  \n",
       "915              видеозапись грот и 25 17 просыпайтесь     31  \n",
       "1028   видеоролик тесак против эдуарда багирова допи...     3  \n",
       "1061   alai oli зачем ты под чёрного легла продолжит...     2  \n",
       "1117  видеофайл бабушка отматерила чурку продолжител...     5  \n",
       "1130  видеофайлы коловрат футбольный хулиган mp4 рос...     1  \n",
       "1146  аудиозапись под названием тимур муцураев 12000...     3  \n",
       "1177  текст песни реп это кал рок группы коррозия ме...     1  \n",
       "1183   текстовая часть аудиозаписи sel mi на стягу к...     2  \n",
       "1228  аудиофайл коловрат слава россии в в вконтакте ...     2  \n",
       "1253           видеоролик за что мир ненавидит жидов в      2  \n",
       "1273  книги 1 крепость мусульманина из слов поминани...     2  \n",
       "1275                         read php 40 1418216 page 2     2  \n",
       "1298             видеозапись грот и 25 17 просыпайтесь     16  \n",
       "1407             видеозапись грот и 25 17 просыпайтесь      6  \n",
       "1468  видеоролик под названием обращение к чуркам в ...     2  \n",
       "1510  текст песни группы коловрат под названием геро...     3  \n",
       "1592  цикл фильмов игры богов состоящий из восьми ак...    19  \n",
       "1593   песня алешаllacoste беспредел памяти юрия вол...     1  \n",
       "1614        припомним жуликам и ворам их манифест 2002     19  \n",
       "1647        припомним жуликам и ворам их манифест 2002      1  \n",
       "1653  видеоролик обращение бойцов славянского союза ...     4  \n",
       "1671                  dvd диск с фильмом чудеса корана     20  \n",
       "1711        припомним жуликам и ворам их манифест 2002      2  \n",
       "1732  аудиозапись под названием тимур муцураев 12000...     4  \n",
       "1755  книги 1 крепость мусульманина из слов поминани...     2  "
      ]
     },
     "execution_count": 173,
     "metadata": {},
     "output_type": "execute_result"
    }
   ],
   "source": [
    "grouped = df.groupby(\n",
    "    [\"case_doc_subject_rf\", \"predicted_material\"], as_index=False\n",
    ").size()\n",
    "\n",
    "grouped = grouped.replace(\"None\", np.nan)\n",
    "grouped = grouped.dropna()\n",
    "\n",
    "idx = grouped.groupby(\"case_doc_subject_rf\")[\"size\"].idxmax()\n",
    "\n",
    "grouped.loc[idx].head(50)"
   ]
  },
  {
   "cell_type": "code",
   "execution_count": null,
   "id": "8aa5e793-b7cf-4586-bb2c-fdff3eba7871",
   "metadata": {
    "tags": []
   },
   "outputs": [],
   "source": []
  },
  {
   "cell_type": "markdown",
   "id": "6890dd1e-8c4f-4fa4-af9d-557680b38704",
   "metadata": {},
   "source": [
    "Как пополнялся реестр экстр. материалов"
   ]
  },
  {
   "cell_type": "code",
   "execution_count": 27,
   "id": "d73b5758-9ac7-4b05-9e4a-5788d8d8b175",
   "metadata": {
    "tags": []
   },
   "outputs": [],
   "source": [
    "reestr = pd.read_csv(\n",
    "    \"/Users/kirillkruglikov/repos/investigation-team-rfe/extr_materials/data/exportfsm.csv\",\n",
    "    sep=\";\",\n",
    "    index_col=0,\n",
    ")\n",
    "reestr.columns = [\"material\", \"date\"]\n",
    "\n",
    "reestr_without_dates = reestr[reestr[\"date\"].isna()].copy()\n",
    "reestr_without_dates[\"reg_dates\"] = (\n",
    "    reestr_without_dates[\"material\"].str[-30:].str.extract(r\"(\\d{2}\\W\\d{2}\\W\\d{4})\")\n",
    ")\n",
    "reestr[\"date\"] = reestr[\"date\"].fillna(reestr_without_dates[\"reg_dates\"])\n",
    "reestr.date = pd.to_datetime(reestr.date, format=\"%d.%m.%Y\", errors=\"coerce\")\n",
    "reestr_viz = reestr[reestr[\"date\"].dt.year >= 2007]\n",
    "reestr_viz = reestr_viz.groupby(reestr_viz.date.dt.year).size()"
   ]
  },
  {
   "cell_type": "code",
   "execution_count": 29,
   "id": "b845a47b-3b12-4ddf-968e-62494c53cac6",
   "metadata": {
    "tags": []
   },
   "outputs": [
    {
     "data": {
      "image/png": "[encoded data removed]",
      "text/plain": [
       "<Figure size 1000x600 with 1 Axes>"
      ]
     },
     "metadata": {},
     "output_type": "display_data"
    }
   ],
   "source": [
    "plt.figure(figsize=(10, 6))\n",
    "reestr_viz.plot()\n",
    "plt.title(\"Как пополнялся реестр экстремитских материалов\");"
   ]
  },
  {
   "cell_type": "code",
   "execution_count": null,
   "id": "f64926f7-da6c-45a6-ada1-9a05918e8d22",
   "metadata": {},
   "outputs": [],
   "source": []
  },
  {
   "cell_type": "markdown",
   "id": "7946c2ff-959b-4d38-82e7-2f8e5f66fc8d",
   "metadata": {},
   "source": [
    "### Данные Верховного суда"
   ]
  },
  {
   "cell_type": "code",
   "execution_count": 58,
   "id": "10a6bfa8-4823-4798-83ef-9135305388fa",
   "metadata": {
    "tags": []
   },
   "outputs": [
    {
     "data": {
      "text/html": [
       "<div>\n",
       "<style scoped>\n",
       "    .dataframe tbody tr th:only-of-type {\n",
       "        vertical-align: middle;\n",
       "    }\n",
       "\n",
       "    .dataframe tbody tr th {\n",
       "        vertical-align: top;\n",
       "    }\n",
       "\n",
       "    .dataframe thead th {\n",
       "        text-align: right;\n",
       "    }\n",
       "</style>\n",
       "<table border=\"1\" class=\"dataframe\">\n",
       "  <thead>\n",
       "    <tr style=\"text-align: right;\">\n",
       "      <th></th>\n",
       "      <th>год</th>\n",
       "      <th>Дел поступило в суды</th>\n",
       "      <th>рассмотрено судами дел (по лицам)</th>\n",
       "      <th>возвращено для устранения недостатков протоколов</th>\n",
       "      <th>дел прекращено</th>\n",
       "      <th>Наказаний всего</th>\n",
       "      <th>юридические</th>\n",
       "      <th>должностные</th>\n",
       "      <th>предприниматели без ЮЛ</th>\n",
       "      <th>физические наказания</th>\n",
       "      <th>предупреждение (письменное)</th>\n",
       "      <th>штраф</th>\n",
       "      <th>арест</th>\n",
       "      <th>приостановление деятельности</th>\n",
       "      <th>конфискация</th>\n",
       "      <th>общая сумма наложенных по постановлениям штрафов</th>\n",
       "    </tr>\n",
       "  </thead>\n",
       "  <tbody>\n",
       "    <tr>\n",
       "      <th>0</th>\n",
       "      <td>2011</td>\n",
       "      <td>95</td>\n",
       "      <td>96</td>\n",
       "      <td>13</td>\n",
       "      <td>18</td>\n",
       "      <td>60</td>\n",
       "      <td>1</td>\n",
       "      <td>13</td>\n",
       "      <td>2.0</td>\n",
       "      <td>44</td>\n",
       "      <td>NaN</td>\n",
       "      <td>60</td>\n",
       "      <td>NaN</td>\n",
       "      <td>NaN</td>\n",
       "      <td>18</td>\n",
       "      <td>140000</td>\n",
       "    </tr>\n",
       "    <tr>\n",
       "      <th>1</th>\n",
       "      <td>2012</td>\n",
       "      <td>226</td>\n",
       "      <td>217</td>\n",
       "      <td>28</td>\n",
       "      <td>21</td>\n",
       "      <td>152</td>\n",
       "      <td>8</td>\n",
       "      <td>8</td>\n",
       "      <td>3.0</td>\n",
       "      <td>133</td>\n",
       "      <td>NaN</td>\n",
       "      <td>147</td>\n",
       "      <td>3.0</td>\n",
       "      <td>2.0</td>\n",
       "      <td>21</td>\n",
       "      <td>532000</td>\n",
       "    </tr>\n",
       "    <tr>\n",
       "      <th>2</th>\n",
       "      <td>2013</td>\n",
       "      <td>545</td>\n",
       "      <td>545</td>\n",
       "      <td>49</td>\n",
       "      <td>46</td>\n",
       "      <td>398</td>\n",
       "      <td>9</td>\n",
       "      <td>21</td>\n",
       "      <td>16.0</td>\n",
       "      <td>352</td>\n",
       "      <td>NaN</td>\n",
       "      <td>392</td>\n",
       "      <td>5.0</td>\n",
       "      <td>1.0</td>\n",
       "      <td>71</td>\n",
       "      <td>991200</td>\n",
       "    </tr>\n",
       "    <tr>\n",
       "      <th>3</th>\n",
       "      <td>2014</td>\n",
       "      <td>828</td>\n",
       "      <td>826</td>\n",
       "      <td>76</td>\n",
       "      <td>39</td>\n",
       "      <td>665</td>\n",
       "      <td>17</td>\n",
       "      <td>12</td>\n",
       "      <td>28.0</td>\n",
       "      <td>608</td>\n",
       "      <td>NaN</td>\n",
       "      <td>653</td>\n",
       "      <td>10.0</td>\n",
       "      <td>2.0</td>\n",
       "      <td>112</td>\n",
       "      <td>1486500</td>\n",
       "    </tr>\n",
       "    <tr>\n",
       "      <th>4</th>\n",
       "      <td>2015</td>\n",
       "      <td>1404</td>\n",
       "      <td>1399</td>\n",
       "      <td>118</td>\n",
       "      <td>47</td>\n",
       "      <td>1185</td>\n",
       "      <td>13</td>\n",
       "      <td>20</td>\n",
       "      <td>17.0</td>\n",
       "      <td>1135</td>\n",
       "      <td>NaN</td>\n",
       "      <td>1162</td>\n",
       "      <td>23.0</td>\n",
       "      <td>NaN</td>\n",
       "      <td>104</td>\n",
       "      <td>2553500</td>\n",
       "    </tr>\n",
       "    <tr>\n",
       "      <th>5</th>\n",
       "      <td>2016</td>\n",
       "      <td>1921</td>\n",
       "      <td>1925</td>\n",
       "      <td>135</td>\n",
       "      <td>70</td>\n",
       "      <td>1679</td>\n",
       "      <td>26</td>\n",
       "      <td>24</td>\n",
       "      <td>12.0</td>\n",
       "      <td>1617</td>\n",
       "      <td>1.0</td>\n",
       "      <td>1631</td>\n",
       "      <td>43.0</td>\n",
       "      <td>4.0</td>\n",
       "      <td>114</td>\n",
       "      <td>4729200</td>\n",
       "    </tr>\n",
       "    <tr>\n",
       "      <th>6</th>\n",
       "      <td>2017</td>\n",
       "      <td>2100</td>\n",
       "      <td>2097</td>\n",
       "      <td>153</td>\n",
       "      <td>68</td>\n",
       "      <td>1846</td>\n",
       "      <td>11</td>\n",
       "      <td>11</td>\n",
       "      <td>4.0</td>\n",
       "      <td>1820</td>\n",
       "      <td>NaN</td>\n",
       "      <td>1783</td>\n",
       "      <td>63.0</td>\n",
       "      <td>NaN</td>\n",
       "      <td>127</td>\n",
       "      <td>3880800</td>\n",
       "    </tr>\n",
       "    <tr>\n",
       "      <th>7</th>\n",
       "      <td>2018</td>\n",
       "      <td>2270</td>\n",
       "      <td>2268</td>\n",
       "      <td>215</td>\n",
       "      <td>50</td>\n",
       "      <td>1964</td>\n",
       "      <td>5</td>\n",
       "      <td>11</td>\n",
       "      <td>6.0</td>\n",
       "      <td>1942</td>\n",
       "      <td>NaN</td>\n",
       "      <td>1910</td>\n",
       "      <td>52.0</td>\n",
       "      <td>2.0</td>\n",
       "      <td>122</td>\n",
       "      <td>2845501</td>\n",
       "    </tr>\n",
       "    <tr>\n",
       "      <th>8</th>\n",
       "      <td>2019</td>\n",
       "      <td>1844</td>\n",
       "      <td>1836</td>\n",
       "      <td>160</td>\n",
       "      <td>48</td>\n",
       "      <td>1591</td>\n",
       "      <td>6</td>\n",
       "      <td>11</td>\n",
       "      <td>11.0</td>\n",
       "      <td>1563</td>\n",
       "      <td>1.0</td>\n",
       "      <td>1556</td>\n",
       "      <td>34.0</td>\n",
       "      <td>NaN</td>\n",
       "      <td>79</td>\n",
       "      <td>2333700</td>\n",
       "    </tr>\n",
       "    <tr>\n",
       "      <th>9</th>\n",
       "      <td>2020</td>\n",
       "      <td>2164</td>\n",
       "      <td>2160</td>\n",
       "      <td>216</td>\n",
       "      <td>70</td>\n",
       "      <td>1826</td>\n",
       "      <td>4</td>\n",
       "      <td>11</td>\n",
       "      <td>NaN</td>\n",
       "      <td>1811</td>\n",
       "      <td>NaN</td>\n",
       "      <td>1805</td>\n",
       "      <td>20.0</td>\n",
       "      <td>1.0</td>\n",
       "      <td>59</td>\n",
       "      <td>2359100</td>\n",
       "    </tr>\n",
       "    <tr>\n",
       "      <th>10</th>\n",
       "      <td>2021</td>\n",
       "      <td>1519</td>\n",
       "      <td>1526</td>\n",
       "      <td>144</td>\n",
       "      <td>35</td>\n",
       "      <td>1319</td>\n",
       "      <td>6</td>\n",
       "      <td>15</td>\n",
       "      <td>6.0</td>\n",
       "      <td>1292</td>\n",
       "      <td>NaN</td>\n",
       "      <td>1299</td>\n",
       "      <td>19.0</td>\n",
       "      <td>1.0</td>\n",
       "      <td>57</td>\n",
       "      <td>1816000</td>\n",
       "    </tr>\n",
       "  </tbody>\n",
       "</table>\n",
       "</div>"
      ],
      "text/plain": [
       "     год  Дел поступило в суды  рассмотрено судами дел (по лицам)  \\\n",
       "0   2011                    95                                 96   \n",
       "1   2012                   226                                217   \n",
       "2   2013                   545                                545   \n",
       "3   2014                   828                                826   \n",
       "4   2015                  1404                               1399   \n",
       "5   2016                  1921                               1925   \n",
       "6   2017                  2100                               2097   \n",
       "7   2018                  2270                               2268   \n",
       "8   2019                  1844                               1836   \n",
       "9   2020                  2164                               2160   \n",
       "10  2021                  1519                               1526   \n",
       "\n",
       "    возвращено для устранения недостатков протоколов   дел прекращено  \\\n",
       "0                                                  13              18   \n",
       "1                                                  28              21   \n",
       "2                                                  49              46   \n",
       "3                                                  76              39   \n",
       "4                                                 118              47   \n",
       "5                                                 135              70   \n",
       "6                                                 153              68   \n",
       "7                                                 215              50   \n",
       "8                                                 160              48   \n",
       "9                                                 216              70   \n",
       "10                                                144              35   \n",
       "\n",
       "    Наказаний всего  юридические  должностные  предприниматели без ЮЛ  \\\n",
       "0                60            1           13                     2.0   \n",
       "1               152            8            8                     3.0   \n",
       "2               398            9           21                    16.0   \n",
       "3               665           17           12                    28.0   \n",
       "4              1185           13           20                    17.0   \n",
       "5              1679           26           24                    12.0   \n",
       "6              1846           11           11                     4.0   \n",
       "7              1964            5           11                     6.0   \n",
       "8              1591            6           11                    11.0   \n",
       "9              1826            4           11                     NaN   \n",
       "10             1319            6           15                     6.0   \n",
       "\n",
       "    физические наказания  предупреждение (письменное)  штраф  арест  \\\n",
       "0                     44                          NaN     60    NaN   \n",
       "1                    133                          NaN    147    3.0   \n",
       "2                    352                          NaN    392    5.0   \n",
       "3                    608                          NaN    653   10.0   \n",
       "4                   1135                          NaN   1162   23.0   \n",
       "5                   1617                          1.0   1631   43.0   \n",
       "6                   1820                          NaN   1783   63.0   \n",
       "7                   1942                          NaN   1910   52.0   \n",
       "8                   1563                          1.0   1556   34.0   \n",
       "9                   1811                          NaN   1805   20.0   \n",
       "10                  1292                          NaN   1299   19.0   \n",
       "\n",
       "    приостановление деятельности  конфискация  \\\n",
       "0                            NaN           18   \n",
       "1                            2.0           21   \n",
       "2                            1.0           71   \n",
       "3                            2.0          112   \n",
       "4                            NaN          104   \n",
       "5                            4.0          114   \n",
       "6                            NaN          127   \n",
       "7                            2.0          122   \n",
       "8                            NaN           79   \n",
       "9                            1.0           59   \n",
       "10                           1.0           57   \n",
       "\n",
       "    общая сумма наложенных по постановлениям штрафов  \n",
       "0                                             140000  \n",
       "1                                             532000  \n",
       "2                                             991200  \n",
       "3                                            1486500  \n",
       "4                                            2553500  \n",
       "5                                            4729200  \n",
       "6                                            3880800  \n",
       "7                                            2845501  \n",
       "8                                            2333700  \n",
       "9                                            2359100  \n",
       "10                                           1816000  "
      ]
     },
     "execution_count": 58,
     "metadata": {},
     "output_type": "execute_result"
    }
   ],
   "source": [
    "df_supreme_court = pd.read_csv(\n",
    "    \"/Users/kirillkruglikov/repos/investigation-team-rfe/extr_materials/new_data/20.29-supreme-court-(edited).csv\"\n",
    ")\n",
    "df_supreme_court"
   ]
  },
  {
   "cell_type": "markdown",
   "id": "5f3781dc-059b-418a-9a19-885726dba9d9",
   "metadata": {},
   "source": [
    "С 2011 по 2021 год по данным Верховного суда было наложено 12398 штрафов на сумму 23 667 501"
   ]
  },
  {
   "cell_type": "code",
   "execution_count": 33,
   "id": "04026b87-0600-41b0-8760-eeb009a8e302",
   "metadata": {
    "tags": []
   },
   "outputs": [
    {
     "data": {
      "text/plain": [
       "год                                                     22176.0\n",
       "Дел поступило в суды                                    14916.0\n",
       "рассмотрено судами дел (по лицам)                       14895.0\n",
       "возвращено для устранения недостатков протоколов         1307.0\n",
       "дел прекращено                                            512.0\n",
       "Наказаний всего                                         12685.0\n",
       "юридические                                               106.0\n",
       "должностные                                               157.0\n",
       "предприниматели без ЮЛ                                    105.0\n",
       "физические наказания                                    12317.0\n",
       "предупреждение (письменное)                                 2.0\n",
       "штраф                                                   12398.0\n",
       "арест                                                     272.0\n",
       "приостановление деятельности                               13.0\n",
       "конфискация                                               884.0\n",
       "общая сумма наложенных по постановлениям штрафов     23667501.0\n",
       "dtype: float64"
      ]
     },
     "execution_count": 33,
     "metadata": {},
     "output_type": "execute_result"
    }
   ],
   "source": [
    "df_supreme_court.sum()"
   ]
  },
  {
   "cell_type": "code",
   "execution_count": null,
   "id": "9a8210ad-74d0-4073-864b-1aefd3e296e1",
   "metadata": {
    "tags": []
   },
   "outputs": [
    {
     "data": {
      "text/plain": [
       "год\n",
       "2011     140000\n",
       "2012     532000\n",
       "2013     991200\n",
       "2014    1486500\n",
       "2015    2553500\n",
       "2016    4729200\n",
       "2017    3880800\n",
       "2018    2845501\n",
       "2019    2333700\n",
       "2020    2359100\n",
       "2021    1816000\n",
       "Name: общая сумма наложенных по постановлениям штрафов, dtype: int64"
      ]
     },
     "execution_count": 77,
     "metadata": {},
     "output_type": "execute_result"
    }
   ],
   "source": [
    "df_supreme_court.groupby(\"год\")[\n",
    "    \"общая сумма наложенных по постановлениям штрафов\"\n",
    "].sum()"
   ]
  },
  {
   "cell_type": "code",
   "execution_count": 48,
   "id": "262efb5d-1727-47e6-9bfd-5c34878699ae",
   "metadata": {
    "tags": []
   },
   "outputs": [
    {
     "data": {
      "image/png": "[encoded data removed]",
      "text/plain": [
       "<Figure size 1000x600 with 1 Axes>"
      ]
     },
     "metadata": {},
     "output_type": "display_data"
    }
   ],
   "source": [
    "total_cases = df_supreme_court.groupby(\"год\")[\"Дел поступило в суды\"].sum()\n",
    "plt.figure(figsize=(10, 6))\n",
    "plt.title(\"Дел по 20.29 поступило в суды\")\n",
    "total_cases.plot()\n",
    "plt.xticks(total_cases.index)\n",
    "plt.show()"
   ]
  },
  {
   "cell_type": "code",
   "execution_count": 51,
   "id": "6b36b261-322a-45ca-9bf9-d05519d143af",
   "metadata": {
    "tags": []
   },
   "outputs": [
    {
     "data": {
      "image/png": "[encoded data removed]",
      "text/plain": [
       "<Figure size 1000x600 with 1 Axes>"
      ]
     },
     "metadata": {},
     "output_type": "display_data"
    }
   ],
   "source": [
    "# данные верховного суда\n",
    "df_supreme_court.groupby(\"год\")[\n",
    "    [\n",
    "        \"Дел поступило в суды\",\n",
    "        \"Наказаний всего\",\n",
    "        \"возвращено для устранения недостатков протоколов \",\n",
    "        \"дел прекращено\",\n",
    "    ]\n",
    "].sum().plot(figsize=(10, 6))\n",
    "plt.xticks(range(2011, 2022))\n",
    "plt.title(\"Сколько дел по 20.29 КоАП поступило в суды\");"
   ]
  },
  {
   "cell_type": "code",
   "execution_count": null,
   "id": "c6dd69c0-1eef-4b43-b09b-fbdd77c9142b",
   "metadata": {
    "tags": []
   },
   "outputs": [
    {
     "name": "stdout",
     "output_type": "stream",
     "text": [
      "Процент наказаний 85.16280631084257\n"
     ]
    }
   ],
   "source": [
    "print(\n",
    "    \"Процент наказаний\",\n",
    "    df_supreme_court[\"Наказаний всего\"].sum()\n",
    "    / df_supreme_court[\"рассмотрено судами дел (по лицам)\"].sum()\n",
    "    * 100,\n",
    ")"
   ]
  },
  {
   "cell_type": "code",
   "execution_count": 68,
   "id": "4f92af74-be07-40e8-bb0e-5b61b5b1ca27",
   "metadata": {
    "tags": []
   },
   "outputs": [],
   "source": [
    "df_supreme_court[\"Процент прекращённых дел за год\"] = (\n",
    "    df_supreme_court[\"дел прекращено\"]\n",
    "    / df_supreme_court[\"рассмотрено судами дел (по лицам)\"]\n",
    "    * 100\n",
    ")"
   ]
  },
  {
   "cell_type": "code",
   "execution_count": 69,
   "id": "026d7ccc-6789-4bc6-9fc2-a0d86ff9a5d9",
   "metadata": {
    "tags": []
   },
   "outputs": [],
   "source": [
    "df_supreme_court[\"Процент наказаний за год\"] = (\n",
    "    df_supreme_court[\"Наказаний всего\"]\n",
    "    / df_supreme_court[\"рассмотрено судами дел (по лицам)\"]\n",
    "    * 100\n",
    ")"
   ]
  },
  {
   "cell_type": "code",
   "execution_count": 70,
   "id": "da5b8265-a21c-4506-ad82-808a590fed54",
   "metadata": {
    "tags": []
   },
   "outputs": [],
   "source": [
    "df_supreme_court[\"Процент возвращённых дел за год\"] = (\n",
    "    df_supreme_court[\"возвращено для устранения недостатков протоколов \"]\n",
    "    / df_supreme_court[\"рассмотрено судами дел (по лицам)\"]\n",
    "    * 100\n",
    ")"
   ]
  },
  {
   "cell_type": "code",
   "execution_count": 76,
   "id": "8b3f6cff-3bca-4572-abbf-9910ff002087",
   "metadata": {
    "tags": []
   },
   "outputs": [
    {
     "data": {
      "text/html": [
       "<div>\n",
       "<style scoped>\n",
       "    .dataframe tbody tr th:only-of-type {\n",
       "        vertical-align: middle;\n",
       "    }\n",
       "\n",
       "    .dataframe tbody tr th {\n",
       "        vertical-align: top;\n",
       "    }\n",
       "\n",
       "    .dataframe thead th {\n",
       "        text-align: right;\n",
       "    }\n",
       "</style>\n",
       "<table border=\"1\" class=\"dataframe\">\n",
       "  <thead>\n",
       "    <tr style=\"text-align: right;\">\n",
       "      <th></th>\n",
       "      <th>Процент прекращённых дел за год</th>\n",
       "      <th>Процент наказаний за год</th>\n",
       "      <th>Процент возвращённых дел за год</th>\n",
       "    </tr>\n",
       "  </thead>\n",
       "  <tbody>\n",
       "    <tr>\n",
       "      <th>0</th>\n",
       "      <td>18.750000</td>\n",
       "      <td>62.500000</td>\n",
       "      <td>13.541667</td>\n",
       "    </tr>\n",
       "    <tr>\n",
       "      <th>1</th>\n",
       "      <td>9.677419</td>\n",
       "      <td>70.046083</td>\n",
       "      <td>12.903226</td>\n",
       "    </tr>\n",
       "    <tr>\n",
       "      <th>2</th>\n",
       "      <td>8.440367</td>\n",
       "      <td>73.027523</td>\n",
       "      <td>8.990826</td>\n",
       "    </tr>\n",
       "    <tr>\n",
       "      <th>3</th>\n",
       "      <td>4.721550</td>\n",
       "      <td>80.508475</td>\n",
       "      <td>9.200969</td>\n",
       "    </tr>\n",
       "    <tr>\n",
       "      <th>4</th>\n",
       "      <td>3.359543</td>\n",
       "      <td>84.703360</td>\n",
       "      <td>8.434596</td>\n",
       "    </tr>\n",
       "    <tr>\n",
       "      <th>5</th>\n",
       "      <td>3.636364</td>\n",
       "      <td>87.220779</td>\n",
       "      <td>7.012987</td>\n",
       "    </tr>\n",
       "    <tr>\n",
       "      <th>6</th>\n",
       "      <td>3.242728</td>\n",
       "      <td>88.030520</td>\n",
       "      <td>7.296137</td>\n",
       "    </tr>\n",
       "    <tr>\n",
       "      <th>7</th>\n",
       "      <td>2.204586</td>\n",
       "      <td>86.596120</td>\n",
       "      <td>9.479718</td>\n",
       "    </tr>\n",
       "    <tr>\n",
       "      <th>8</th>\n",
       "      <td>2.614379</td>\n",
       "      <td>86.655773</td>\n",
       "      <td>8.714597</td>\n",
       "    </tr>\n",
       "    <tr>\n",
       "      <th>9</th>\n",
       "      <td>3.240741</td>\n",
       "      <td>84.537037</td>\n",
       "      <td>10.000000</td>\n",
       "    </tr>\n",
       "    <tr>\n",
       "      <th>10</th>\n",
       "      <td>2.293578</td>\n",
       "      <td>86.435125</td>\n",
       "      <td>9.436435</td>\n",
       "    </tr>\n",
       "  </tbody>\n",
       "</table>\n",
       "</div>"
      ],
      "text/plain": [
       "    Процент прекращённых дел за год  Процент наказаний за год  \\\n",
       "0                         18.750000                 62.500000   \n",
       "1                          9.677419                 70.046083   \n",
       "2                          8.440367                 73.027523   \n",
       "3                          4.721550                 80.508475   \n",
       "4                          3.359543                 84.703360   \n",
       "5                          3.636364                 87.220779   \n",
       "6                          3.242728                 88.030520   \n",
       "7                          2.204586                 86.596120   \n",
       "8                          2.614379                 86.655773   \n",
       "9                          3.240741                 84.537037   \n",
       "10                         2.293578                 86.435125   \n",
       "\n",
       "    Процент возвращённых дел за год  \n",
       "0                         13.541667  \n",
       "1                         12.903226  \n",
       "2                          8.990826  \n",
       "3                          9.200969  \n",
       "4                          8.434596  \n",
       "5                          7.012987  \n",
       "6                          7.296137  \n",
       "7                          9.479718  \n",
       "8                          8.714597  \n",
       "9                         10.000000  \n",
       "10                         9.436435  "
      ]
     },
     "execution_count": 76,
     "metadata": {},
     "output_type": "execute_result"
    }
   ],
   "source": [
    "df_supreme_court.iloc[:, -3:]"
   ]
  },
  {
   "cell_type": "code",
   "execution_count": 74,
   "id": "249feba1-8226-4525-9138-40e8c038bab3",
   "metadata": {
    "tags": []
   },
   "outputs": [
    {
     "data": {
      "image/png": "[encoded data removed]",
      "text/plain": [
       "<Figure size 1000x600 with 1 Axes>"
      ]
     },
     "metadata": {},
     "output_type": "display_data"
    }
   ],
   "source": [
    "df_supreme_court[\n",
    "    [\n",
    "        \"Процент прекращённых дел за год\",\n",
    "        \"Процент наказаний за год\",\n",
    "        \"Процент возвращённых дел за год\",\n",
    "    ]\n",
    "].plot(figsize=(10, 6))\n",
    "plt.xticks(labels=range(2011, 2022), ticks=range(0, 11))\n",
    "plt.yticks(range(0, 101, 10))\n",
    "plt.ylabel(\"Процент приговоров\")\n",
    "plt.title(\n",
    "    \"Как менялся процент оправдательных и \\nобвинительных приговоров по 20.29 КоАП\"\n",
    ");"
   ]
  },
  {
   "cell_type": "code",
   "execution_count": null,
   "id": "cda93493-c17d-4852-b25e-92517760e9bd",
   "metadata": {
    "tags": []
   },
   "outputs": [],
   "source": []
  },
  {
   "cell_type": "markdown",
   "id": "41692e82-7f38-4349-89ec-e07df0dc7376",
   "metadata": {},
   "source": [
    "### Отрывки из судебных актов"
   ]
  },
  {
   "cell_type": "code",
   "execution_count": 86,
   "id": "b266f99c-cc21-4eb4-810d-d6bcf69eedba",
   "metadata": {
    "tags": []
   },
   "outputs": [
    {
     "data": {
      "application/vnd.jupyter.widget-view+json": {
       "model_id": "13a888ab38e74e21bfd85b2ef2b0d0f6",
       "version_major": 2,
       "version_minor": 0
      },
      "text/plain": [
       "  0%|          | 0/8597 [00:00<?, ?it/s]"
      ]
     },
     "metadata": {},
     "output_type": "display_data"
    },
    {
     "name": "stdout",
     "output_type": "stream",
     "text": [
      "Около 2494 человек не знали, что материал, который они распространяли является экстремиским\n"
     ]
    }
   ],
   "source": [
    "unknown_part = []\n",
    "for i in tqdm(df.acts):\n",
    "    pattern = re.findall(\"(.+не знал.+)\", str(i).lower())\n",
    "    if pattern != []:\n",
    "        unknown_part.append(pattern)\n",
    "\n",
    "print(\n",
    "    f\"Около {len(unknown_part)} человек не знали, что материал, который они распространяли является экстремиским\"\n",
    ")"
   ]
  },
  {
   "cell_type": "code",
   "execution_count": 90,
   "id": "489c64a3-7a51-4448-a908-ddff592f253a",
   "metadata": {
    "tags": []
   },
   "outputs": [
    {
     "name": "stdout",
     "output_type": "stream",
     "text": [
      "фио1 в судебном заседании свою вину признал, пояснил, что он не знал, о том, что данные песни фио3 являются экстремистскими. \n",
      "\n",
      "    в судебном заседании лицо, в отношении которого ведется производство по делу об административном правонарушении, - фио1 вину в совершении административного правонарушения признал и показал, что, находясь дома, на своей странице в социальной сети «в контакте» в общедоступной форме разместил скачанный им в сети «интернет» аудиофайл под названием «коловрат - слава россии!!!!». его профиль в данной социальной сети был открыт для всех желающих. цели распространения данных материалов у него не было. о том, что данный материал является экстремистским и включен в федеральный список экстремистских материалов, не знал. указанный видеофайл удалил дд.мм.гггг. \n",
      "\n",
      "         в судебном заседании хотелов м.б. вину признал в полном объеме, пояснил, что ранее он был имамом ему принесли книгу <данные изъяты> авторы <данные изъяты> и <данные изъяты>, которую он поставил в молельном доме на полке в общедоступном месте, для того чтобы прихожане ее читали, кроме этого он давал некоторым прихожанам ее читать, после прочтения обсуждал с ними главу <данные изъяты> содержащуюся в данной книге, о том, что часть данной книги признана судом экстремисткой он не знал. \n",
      "\n",
      "в судебном заседании романов и.и. вину в предъявленном правонарушении признал в полном объеме, в содеянном раскаялся, и пояснил аналогично изложенному в письменном объяснении, согласно которому видеоматериал под названием ««соц реклама 2010 (смотреть до конца)» добавил на страницу для себя, цели распространения не имел, о том, что является экстремистским, не знал. в настоящее время материалы удалены. \n",
      "\n",
      "в судебном заседании шпинёв е.а. вину в совершении данного правонарушения признал, признав факт размещения на своей странице указанных материалов, пояснил, что обязуется их удалить. пояснил, что не знал, что материалы отнесены к экстремистским. \n",
      "\n"
     ]
    }
   ],
   "source": [
    "for i in pd.DataFrame(unknown_part)[0].sample(5).values:\n",
    "    print(i, \"\\n\")"
   ]
  },
  {
   "cell_type": "code",
   "execution_count": null,
   "id": "55a373ec-22b9-44bc-937a-cfb8654dccc8",
   "metadata": {},
   "outputs": [],
   "source": []
  },
  {
   "cell_type": "code",
   "execution_count": 88,
   "id": "5170636e-427a-4766-ab0d-0054ab6ff933",
   "metadata": {
    "tags": []
   },
   "outputs": [
    {
     "data": {
      "application/vnd.jupyter.widget-view+json": {
       "model_id": "8f1a1d4040754c3396ecdade26dd33c3",
       "version_major": 2,
       "version_minor": 0
      },
      "text/plain": [
       "  0%|          | 0/8597 [00:00<?, ?it/s]"
      ]
     },
     "metadata": {},
     "output_type": "display_data"
    },
    {
     "name": "stdout",
     "output_type": "stream",
     "text": [
      "Приговоров, в которых у подсудимого не было умысла: 382\n"
     ]
    }
   ],
   "source": [
    "intent_2 = []\n",
    "for i in tqdm(df.acts):\n",
    "    pattern = re.findall(\"(.+умысла.+)\", str(i).lower())\n",
    "    if pattern != []:\n",
    "        intent_2.append(pattern)\n",
    "\n",
    "print(f\"Приговоров, в которых у подсудимого не было умысла: {len(intent_2)}\")"
   ]
  },
  {
   "cell_type": "code",
   "execution_count": 89,
   "id": "74b03da9-c837-4c8d-876d-55b264fe59c8",
   "metadata": {
    "tags": []
   },
   "outputs": [
    {
     "name": "stdout",
     "output_type": "stream",
     "text": [
      "в судебном заседании винецкий ф.а. виновным себя в указанном правонарушении признал, с протоколом согласился и пояснил, что разместил у себя на странице в социальной сети «<данные изъяты>» глобальной сети интернет указанное изображение, не имея умысла на распространение экстремистских материалов. он понимает, что указанное изображение, находящееся на его странице в социальной сети «<данные изъяты>» доступна другим пользователям. также пояснил, что в присутствии сотрудников полиции он удалил файл с указанным изображением со своей страницы в социальной сети «<данные изъяты>». \n",
      "\n",
      "указанная аудиозапись со страницы «никитин а.» в социальной сети «вконтакте» находилась в свободном доступе и была прослушана пользователями сети «интернет» фио1, проживающим в г. саяногорске, до ее обнаружения 0дата сотрудниками уфсб россии по республике хакасия. факт распространения никитиным а.е. экстремистских материалов задокументирован актом сбора образцов для сравнительного исследования от дата. в ходе проверки данных о наличии у фио2 умысла на совершение преступления, предусмотренного ст. 282 ук рф, не получено. \n",
      "\n",
      "довод балданова о том, что у него было умысла на совершение правонарушения, поскольку в 2011 году, при размещении ролика, он не был признан экстремистским, не влечет освобождения балдаева от ответственности, т.к. данный ролик с 2013 года включен в федеральный список экстремистских материалов, который доступен на интернет-сайте министерства юстиции российской федерации, сведения об экстремистском характере видеоролика были доступны в том числе и балданову без каких-либо ограничений. \n",
      "\n"
     ]
    }
   ],
   "source": [
    "for i in pd.DataFrame(intent_2)[0].sample(3).values:\n",
    "    print(i, \"\\n\")"
   ]
  },
  {
   "cell_type": "code",
   "execution_count": null,
   "id": "990b9e88-d9ef-4e7f-a64b-d8bad04a78ba",
   "metadata": {},
   "outputs": [],
   "source": []
  },
  {
   "cell_type": "code",
   "execution_count": 91,
   "id": "d5eca39c-e9a7-47a0-842d-139a2c84cacf",
   "metadata": {
    "tags": []
   },
   "outputs": [
    {
     "data": {
      "application/vnd.jupyter.widget-view+json": {
       "model_id": "600c4e63d21045b9b0a06a62c126776a",
       "version_major": 2,
       "version_minor": 0
      },
      "text/plain": [
       "  0%|          | 0/8597 [00:00<?, ?it/s]"
      ]
     },
     "metadata": {},
     "output_type": "display_data"
    },
    {
     "name": "stderr",
     "output_type": "stream",
     "text": [
      "IOStream.flush timed out\n",
      "IOStream.flush timed out\n"
     ]
    },
    {
     "name": "stdout",
     "output_type": "stream",
     "text": [
      "Приговоров содержащих \"вину не признал\": 407\n"
     ]
    }
   ],
   "source": [
    "guilt_not_accept = []\n",
    "for i in tqdm(df.acts):\n",
    "    pattern = re.findall(\"(.+не признал.+)\", str(i).lower())\n",
    "    if pattern != []:\n",
    "        guilt_not_accept.append(pattern)\n",
    "\n",
    "print(f'Приговоров содержащих \"вину не признал\": {len(guilt_not_accept)}')"
   ]
  },
  {
   "cell_type": "code",
   "execution_count": 98,
   "id": "a0a794f4-4fda-4748-a05a-96f42b1d24a7",
   "metadata": {
    "tags": []
   },
   "outputs": [
    {
     "name": "stdout",
     "output_type": "stream",
     "text": [
      "в судебном заседании г. частично согласился с протоколом об административном правонарушении, подтвердив, что он действительно разместил на своей странице в социальной сети «в контакте» видеозапись * однако вину в совершении административного правонарушения, предусмотренного ст. 20.29 коап рф, не признал, пояснив, что он не знал о том, что данный материал будет признан экстремистским, умысла на разжигание социальной розни и вражды не имел. в настоящее время видеозапись им со своей страницы удалена. \n",
      "\n",
      "сиверин и.а. в судебном заседании виновным себя не признал, пояснив, что указанные в постановлении о возбуждении дела об административном правонарушении аудиоматериалы были размещены на его странице в социальной сети «вконтакте» до признания их экстремистскими, данная страница закрыта. \n",
      "\n",
      "в судебном заседании журавский а.а. факт совершения административного правонарушения не признал, пояснил, что видеозапись была размещена в 2011 году, он не знал, что она носит экстремистский характер, кроме того, решение судом о признании его таковым принято в 2016 году, то есть до его появления на страничке. \n",
      "\n"
     ]
    }
   ],
   "source": [
    "for i in pd.DataFrame(guilt_not_accept)[0].sample(3).values:\n",
    "    print(i, \"\\n\")"
   ]
  },
  {
   "cell_type": "code",
   "execution_count": 92,
   "id": "4d5907ec-3f33-4afc-9c09-e4272355c68e",
   "metadata": {
    "tags": []
   },
   "outputs": [
    {
     "data": {
      "application/vnd.jupyter.widget-view+json": {
       "model_id": "873498ce096f454ab87a9ae9cbf9b609",
       "version_major": 2,
       "version_minor": 0
      },
      "text/plain": [
       "  0%|          | 0/8597 [00:00<?, ?it/s]"
      ]
     },
     "metadata": {},
     "output_type": "display_data"
    },
    {
     "name": "stdout",
     "output_type": "stream",
     "text": [
      "Приговоров содержащих \"вину признал\": 1342\n"
     ]
    }
   ],
   "source": [
    "guilt_accept = []\n",
    "for i in tqdm(df.acts):\n",
    "    pattern = re.findall(\"(.+вину признал.+)\", str(i).lower())\n",
    "    if pattern != []:\n",
    "        guilt_accept.append(pattern)\n",
    "\n",
    "print(f'Приговоров содержащих \"вину признал\": {len(guilt_accept)}')"
   ]
  },
  {
   "cell_type": "code",
   "execution_count": 103,
   "id": "440735ef-05df-49a5-b91e-ae9442a8b4b6",
   "metadata": {
    "tags": []
   },
   "outputs": [
    {
     "name": "stdout",
     "output_type": "stream",
     "text": [
      "фио 1 в судебном заседании вину признал, с протоколом об административном правонарушении согласился, не оспаривает, что размещал на своей странице в социальной сети «вконтакте» ссылки на сайт www.jw.org, не знал какая именно информация и литература организации «свидетели иеговы» запрещена и относится к экстремистской на территории российской федерации. \n",
      "\n",
      "при рассмотрении дела сустин д.а., которому были разъяснены права, предусмотренные ч. 1 ст. 25.1 коап рф, положения ст. 51 конституции рф, отводов в порядке ст. 25.13 коап рф и ходатайств в порядке ст. 24.4 коап рф не заявил, вину признал. он указал, что разместил, указанную песню на своей странице в сети «в контакте», так как она ему понравилась. \n",
      "\n",
      "    лицо, в отношении которого ведется производство по делу об административном правонарушении бонка в.а. вину признал в полном объеме. пояснил, что он не придавал значение этому материалу, для чего его опубликовал пояснить не может. своей страничкой в сети интернет он пользовался один год, затем забыл пароль и с 2011 года на страничку не заходил. \n",
      "\n"
     ]
    }
   ],
   "source": [
    "for i in pd.DataFrame(guilt_accept)[0].sample(3).values:\n",
    "    print(i, \"\\n\")"
   ]
  },
  {
   "cell_type": "code",
   "execution_count": null,
   "id": "0156955e-a29f-4c11-a96c-ae0987ac6dfe",
   "metadata": {},
   "outputs": [],
   "source": []
  }
 ],
 "metadata": {
  "kernelspec": {
   "display_name": "Python 3 (ipykernel)",
   "language": "python",
   "name": "python3"
  },
  "language_info": {
   "codemirror_mode": {
    "name": "ipython",
    "version": 3
   },
   "file_extension": ".py",
   "mimetype": "text/x-python",
   "name": "python",
   "nbconvert_exporter": "python",
   "pygments_lexer": "ipython3",
   "version": "3.9.13"
  }
 },
 "nbformat": 4,
 "nbformat_minor": 5
}
